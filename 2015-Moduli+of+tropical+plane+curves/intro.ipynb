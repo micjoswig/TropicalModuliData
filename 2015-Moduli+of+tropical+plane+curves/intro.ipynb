{
 "cells": [
  {
   "cell_type": "markdown",
   "metadata": {},
   "source": [
    "# Moduli of tropical plane curves\n",
    "\n",
    "This is the software companion to the paper:\n",
    "\n",
    "[1] Brodsky, Joswig, Morrison & Sturmfels;\n",
    "Research in the Mathematical Sciences (2015).\n",
    "[DOI: 10.1186/s40687-014-0018-1](https://link.springer.com/article/10.1186/s40687-014-0018-1)\n",
    "\n",
    "Please also consult the `README.md` despite (small, intended) overlaps with this document."
   ]
  },
  {
   "cell_type": "markdown",
   "metadata": {},
   "source": [
    "## How to use the polymake scripts\n",
    "\n",
    "First, change your working directory to <code>2015-Moduli+of+tropical+plane+curves</code>.  Then fire up polymake; possibly in a jupyter notebook.  Second, read the configuration (here $g=3$, standard triangle):"
   ]
  },
  {
   "cell_type": "code",
   "execution_count": 1,
   "metadata": {},
   "outputs": [],
   "source": [
    "script \"g3/setup.pl\";"
   ]
  },
  {
   "cell_type": "markdown",
   "metadata": {},
   "source": [
    "Suppose now you want to compute the probabilities from the Table on page 18 of [1]."
   ]
  },
  {
   "cell_type": "code",
   "execution_count": 2,
   "metadata": {},
   "outputs": [
    {
     "data": {
      "text/plain": [
       "honeycomb: 4/15=0.266666666666667\n",
       "mickey_mouse: 8/15=0.533333333333333\n",
       "one_bridge: 12/35=0.342857142857143\n",
       "two_bridge: 1/3=0.333333333333333\n",
       "TOTAL: 31/105=0.295238095238095\n"
      ]
     },
     "execution_count": 2,
     "metadata": {},
     "output_type": "execute_result"
    },
    {
     "data": {
      "text/html": [
       "<details><summary><pre style=\"display:inline\"><small>Click here for additional output</small></pre></summary>\n",
       "<pre>\n",
       "polymake: used package ppl\n",
       "  The Parma Polyhedra Library ([[wiki:external_software#PPL]]): A C++ library for convex polyhedra\n",
       "  and other numerical abstractions.\n",
       "  http://www.cs.unipr.it/ppl/\n",
       "\n",
       "polymake: used package cdd\n",
       "  cddlib\n",
       "  Implementation of the double description method of Motzkin et al.\n",
       "  Copyright by Komei Fukuda.\n",
       "  https://people.inf.ethz.ch/fukudak/cdd_home/\n",
       "  https://github.com/cddlib\n",
       "\n",
       "</pre>\n",
       "</details>\n"
      ]
     },
     "metadata": {},
     "output_type": "display_data"
    }
   ],
   "source": [
    "script \"g3/volume.pl\";\n",
    "print_probability_table();"
   ]
  },
  {
   "cell_type": "markdown",
   "metadata": {},
   "source": [
    "There are many more functions.  For instance, the function"
   ]
  },
  {
   "cell_type": "code",
   "execution_count": 3,
   "metadata": {},
   "outputs": [
    {
     "data": {
      "text/plain": [
       "1/3"
      ]
     },
     "execution_count": 3,
     "metadata": {},
     "output_type": "execute_result"
    }
   ],
   "source": [
    "print probability(two_bridge_moduli());"
   ]
  },
  {
   "cell_type": "markdown",
   "metadata": {},
   "source": [
    "produces the last entry of that table.  Additionally this setup defines many global variables which are used throughout."
   ]
  },
  {
   "cell_type": "markdown",
   "metadata": {},
   "source": [
    "## Organization of the files\n",
    "\n",
    "For each genus there is one subdirectory, below `Computations`.  This\n",
    "in turn contains the subdirectories\n",
    "\n",
    "* `preprocessing`: results obtained via TOPCOM and polymake\n",
    "* `secondary_fan`: the bulk of the polymake computations and the final results\n",
    "\n",
    "Among other things the `secondary_fan` subdirectory contains one\n",
    "directory per polytope and bucket.  E.g., `g3b7` for the honeycomb\n",
    "basket for $g=3$ (no polytope here, as there is only one) or `g4T1b0`\n",
    "for the $g=4$ basket with number #0 with respect to the polytope T1."
   ]
  },
  {
   "cell_type": "code",
   "execution_count": 4,
   "metadata": {},
   "outputs": [
    {
     "data": {
      "text/plain": [
       "0 -1 -1 -2/3 -2/3 -2/3 -1/3 -1/3 -1/3 -1/3 0 0 0 0 0\n",
       "0 0 -1 0 -1 -2 0 -1 -2 -3 0 -1 -2 -1 0\n",
       "0 -1 0 -2 -1 0 -3 -2 -1 0 0 -3 -2 -1 0\n",
       "0 0 -1 0 -1 -2 0 -1 -2 -3 0 -1 -2 -3 0\n",
       "0 -1 0 -2 -1 0 -3 -2 -1 0 0 -1 -2 -1 0\n",
       "0 -1 -1/3 -2/3 -2/3 -2/3 -1/3 -1/3 -1/3 -1/3 0 0 0 0 0\n",
       "0 0 -1 0 -1 -2 0 -1 -2 -1 0 -1 -2 -1 0\n",
       "0 -1 -1 -2 -2 -2 -3 -3 -3 -3 0 0 0 0 0\n",
       "0 -1 -1/3 -2/3 -4/3 -2/3 -1/3 -1 -5/3 -1 0 -2/3 -4/3 -2/3 0\n",
       "0 -1 -1 -1 -2 -2 -1 -1 -1 -1 0 0 0 0 0\n",
       "0 -1 -1 -2 -2 -2 -1 -1 -1 -1 0 0 0 0 0\n",
       "0 -1 -1/2 -1 -3/2 -1 -1 -3/2 -1 -1/2 0 -1/2 -1 -1/2 0\n"
      ]
     },
     "execution_count": 4,
     "metadata": {},
     "output_type": "execute_result"
    }
   ],
   "source": [
    "$SC = load(\"g3/secondary_fan/g3b7/g3b7-1001.cone\");\n",
    "print $SC->RAYS;"
   ]
  },
  {
   "cell_type": "markdown",
   "metadata": {},
   "source": [
    "The corresponding moduli cones reside in a subdirectory."
   ]
  },
  {
   "cell_type": "code",
   "execution_count": 5,
   "metadata": {},
   "outputs": [],
   "source": [
    "$MC = load(\"g3/secondary_fan/g3b7/moduli/g3b7-1001-moduli.cone\");"
   ]
  },
  {
   "cell_type": "markdown",
   "metadata": {},
   "source": [
    "Now that moduli cone is a big object of type cone, all suitable polymake functions apply.  For instance, here we see the incidences between the rays and the facets."
   ]
  },
  {
   "cell_type": "code",
   "execution_count": 6,
   "metadata": {},
   "outputs": [
    {
     "data": {
      "text/plain": [
       "{0 1 2 4}\n",
       "{1 2 3 4}\n",
       "{0 2 3 4}\n",
       "{0 1 3 4}\n",
       "{0 1 2 3}\n"
      ]
     },
     "execution_count": 6,
     "metadata": {},
     "output_type": "execute_result"
    }
   ],
   "source": [
    "print $MC->RAYS_IN_FACETS;"
   ]
  },
  {
   "cell_type": "markdown",
   "metadata": {},
   "source": [
    "The rows of the above are in bijection with the facet inequalities."
   ]
  },
  {
   "cell_type": "code",
   "execution_count": 7,
   "metadata": {},
   "outputs": [
    {
     "data": {
      "text/plain": [
       "1 0 0 -1 -2 0\n",
       "0 1 -1 -2 2 0\n",
       "0 0 1 0 -2 0\n",
       "0 0 0 1 0 0\n",
       "0 0 0 0 1 0\n"
      ]
     },
     "execution_count": 7,
     "metadata": {},
     "output_type": "execute_result"
    }
   ],
   "source": [
    "print $MC->FACETS;"
   ]
  },
  {
   "cell_type": "markdown",
   "metadata": {},
   "source": [
    "The same, possibly easier to read."
   ]
  },
  {
   "cell_type": "code",
   "execution_count": 8,
   "metadata": {},
   "outputs": [
    {
     "data": {
      "text/plain": [
       "Facets:\n",
       "0: x0 - x3 - 2 x4 >= 0\n",
       "1: x1 - x2 - 2 x3 + 2 x4 >= 0\n",
       "2: x2 - 2 x4 >= 0\n",
       "3: x3 >= 0\n",
       "4: x4 >= 0\n",
       "\n",
       "Linear span:\n",
       "0: -x2 + 2 x4 + x5 = 0\n",
       "\n"
      ]
     },
     "execution_count": 8,
     "metadata": {},
     "output_type": "execute_result"
    }
   ],
   "source": [
    "print_constraints($MC);"
   ]
  },
  {
   "cell_type": "markdown",
   "metadata": {},
   "source": [
    "Some relevant data is stored in attachments."
   ]
  },
  {
   "cell_type": "code",
   "execution_count": 9,
   "metadata": {},
   "outputs": [
    {
     "data": {
      "text/plain": [
       "DUAL_EDGE_ARRAY DUAL_EDGE_SKELETON_MAP INDUCED_TRIANGULATION STANDARD_RAYS N_SKELETON_EDGES BUCKET ID"
      ]
     },
     "execution_count": 9,
     "metadata": {},
     "output_type": "execute_result"
    }
   ],
   "source": [
    "print join \" \", $SC->list_attachments;"
   ]
  },
  {
   "cell_type": "markdown",
   "metadata": {},
   "source": [
    "For instance, these are the rays in standard form."
   ]
  },
  {
   "cell_type": "code",
   "execution_count": 10,
   "metadata": {},
   "outputs": [
    {
     "data": {
      "text/plain": [
       "0 0 0 1 0 0 0 0 0 0 0 0 0 0 0 0 0 0\n",
       "0 0 1 0 0 0 0 0 0 0 0 0 0 0 0 0 0 0\n",
       "0 0 0 0 0 0 0 1 0 0 0 0 0 0 0 0 0 0\n",
       "1 0 0 0 0 0 0 0 0 0 0 0 0 0 0 0 0 0\n",
       "0 0 0 0 0 0 0 0 1 0 0 0 0 0 0 0 0 0\n",
       "0 0 0 0 1 0 0 0 0 0 0 0 0 0 0 0 0 0\n",
       "0 0 0 0 0 0 0 0 0 0 0 0 1 0 0 1 0 0\n",
       "0 1 0 0 0 0 0 0 0 0 1 0 0 0 0 0 0 1\n",
       "0 1 0 0 0 0 1 0 0 0 0 0 0 0 1 1 0 0\n",
       "0 0 0 0 0 0 1 0 0 1 0 0 0 2 0 0 0 0\n",
       "0 0 0 0 0 1 0 0 0 0 0 0 0 1 0 0 0 0\n",
       "0 0 0 0 0 0 1 0 0 0 1 1 0 1 0 0 1 0\n"
      ]
     },
     "execution_count": 10,
     "metadata": {},
     "output_type": "execute_result"
    }
   ],
   "source": [
    "print $SC->get_attachment(\"STANDARD_RAYS\");"
   ]
  },
  {
   "cell_type": "markdown",
   "metadata": {},
   "source": [
    "See below for an example to show how these standard rays are mapped into the moduli cone. "
   ]
  },
  {
   "cell_type": "markdown",
   "metadata": {},
   "source": [
    "<h2>Notes on data conversion</h2>\n",
    "\n",
    "The original 2015 version of the files employed the XML file format used in polymake before <a href=\"https://polymake.org/doku.php/news/release_4_0\">version 4.0</a>.  The current version of this data set uses json.  The logical structure is the same; see <a href=\"https://link.springer.com/chapter/10.1007%2F978-3-319-42432-3_50\">this article</a> for details.\n",
    "\n",
    "In order to extract the moduli cone from a secondary cone $C$, the linear map $\\kappa\\circ\\lambda$ from page 4 of [1] is applied to all rays of $C$, and these are labeled by integers starting from 0. During this procedure, it may happen that some of the secondary cone rays get mapped to the zero ray, which current versions of polymake reject as input data (in contrast to 2015, when the original computation was done).  The labels of these secondary cone rays are collected in the attachment `ZERO_ROW_IDX` of the moduli cone to be returned and the zero rays themselves are thrown away.  In this way the map $\\kappa\\circ\\lambda$ can be tracked in detail."
   ]
  },
  {
   "cell_type": "code",
   "execution_count": 11,
   "metadata": {},
   "outputs": [
    {
     "data": {
      "text/plain": [
       "0:0 0 0 1 0 0 0 0 0 0 0 0 0 0 0 0 0 0\n",
       "1:0 0 1 0 0 0 0 0 0 0 0 0 0 0 0 0 0 0\n",
       "2:0 0 0 0 0 0 0 1 0 0 0 0 0 0 0 0 0 0\n",
       "3:1 0 0 0 0 0 0 0 0 0 0 0 0 0 0 0 0 0\n",
       "4:0 0 0 0 0 0 0 0 1 0 0 0 0 0 0 0 0 0\n",
       "5:0 0 0 0 1 0 0 0 0 0 0 0 0 0 0 0 0 0\n",
       "6:0 0 0 0 0 0 0 0 0 0 0 0 1 0 0 1 0 0\n",
       "7:0 1 0 0 0 0 0 0 0 0 1 0 0 0 0 0 0 1\n",
       "8:0 1 0 0 0 0 1 0 0 0 0 0 0 0 1 1 0 0\n",
       "9:0 0 0 0 0 0 1 0 0 1 0 0 0 2 0 0 0 0\n",
       "10:0 0 0 0 0 1 0 0 0 0 0 0 0 1 0 0 0 0\n",
       "11:0 0 0 0 0 0 1 0 0 0 1 1 0 1 0 0 1 0\n"
      ]
     },
     "execution_count": 11,
     "metadata": {},
     "output_type": "execute_result"
    }
   ],
   "source": [
    "print rows_numbered($SC->get_attachment(\"STANDARD_RAYS\"));"
   ]
  },
  {
   "cell_type": "code",
   "execution_count": 12,
   "metadata": {},
   "outputs": [
    {
     "data": {
      "text/plain": [
       "0:0 1 0 0 0 0\n",
       "1:0 1 1 0 0 1\n",
       "2:1 2 0 1 0 0\n",
       "3:1 0 0 0 0 0\n",
       "4:1 0 0 0 0 0\n",
       "5:1 0 1 0 1/2 0\n"
      ]
     },
     "execution_count": 12,
     "metadata": {},
     "output_type": "execute_result"
    }
   ],
   "source": [
    "print rows_numbered($MC->INPUT_RAYS);"
   ]
  },
  {
   "cell_type": "code",
   "execution_count": 13,
   "metadata": {},
   "outputs": [
    {
     "data": {
      "text/plain": [
       "0, 1, 2, 3, 4, 5"
      ]
     },
     "execution_count": 13,
     "metadata": {},
     "output_type": "execute_result"
    }
   ],
   "source": [
    "print $MC->get_attachment(\"ZERO_ROW_IDX\");"
   ]
  }
 ],
 "metadata": {
  "kernelspec": {
   "display_name": "polymake-4.13",
   "language": "polymake",
   "name": "polymake"
  },
  "language_info": {
   "codemirror_mode": "perl",
   "file_extension": ".pl",
   "mimetype": "text/x-polymake",
   "name": "polymake"
  }
 },
 "nbformat": 4,
 "nbformat_minor": 4
}
