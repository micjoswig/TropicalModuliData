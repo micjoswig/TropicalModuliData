{
 "cells": [
  {
   "cell_type": "markdown",
   "metadata": {},
   "source": [
    "# Stacky fans and tropical moduli in polymake\n",
    "\n",
    "by [Dominic Bunnett](http://page.math.tu-berlin.de/~bunnett), [Julian Pfeifle](https://mat.upc.edu/en/people/julian.pfeifle/) and [Michael Joswig](http://page.math.tu-berlin.de/~joswig/)\n",
    "\n",
    "This is the software companion to the [paper](https://arxiv.org/abs/2101.07316) with the same name.  Its purpose is a computational proof for the following.\n",
    "\n",
    "**Theorem.**\n",
    "The stacky fan ${\\mathbb M}_{K_4}^{\\text{pl}}$ of tropical honeycomb curves has face vector $(4,8,10,7,2)$, and its link is contractible.\n",
    "\n",
    "The computation has been tested with [polymake](https://www.polymake.org), version 4.9 from 27 Jan 2023; should also be working with polymake 4.5 and after.\n",
    "\n",
    "We measure the excution time for the entire notebook."
   ]
  },
  {
   "cell_type": "code",
   "execution_count": 1,
   "metadata": {},
   "outputs": [],
   "source": [
    "use Benchmark qw(:all);\n",
    "$t0 = Benchmark->new;"
   ]
  },
  {
   "cell_type": "code",
   "execution_count": 2,
   "metadata": {},
   "outputs": [],
   "source": [
    "application \"tropical\";"
   ]
  },
  {
   "cell_type": "markdown",
   "metadata": {},
   "source": [
    "We are interested in (quartic) tropical curves of fixed genus $g=3$.  The moduli space is $6$-dimensional, corresponding to the six edges of a trivalent graph on four nodes.\n",
    "\n",
    "We pick labels $u,v,w,x,y,z$ for the edges and the corresponding standard basis vectors in ${\\mathbb R}^6$.\n",
    "\n",
    "The purpose of this notebook is to study the special case of the complete graph $K_4$ (which forms one of five types of graphs)."
   ]
  },
  {
   "cell_type": "code",
   "execution_count": 3,
   "metadata": {},
   "outputs": [],
   "source": [
    "($u, $v, $w, $x, $y, $z) = 0..5;\n",
    "$skeleton = new IncidenceMatrix([[$u,$v,$x],[$v,$w,$z],[$u,$w,$y],[$x,$y,$z]]);\n",
    "$TG_K4 = new tropical::Curve(EDGES_THROUGH_VERTICES=>$skeleton);"
   ]
  },
  {
   "cell_type": "markdown",
   "metadata": {},
   "source": [
    "We start out by studying the corresponding moduli cell and its face vector as a stacky fan."
   ]
  },
  {
   "cell_type": "code",
   "execution_count": 4,
   "metadata": {},
   "outputs": [
    {
     "data": {
      "text/plain": [
       "1 2 3 2 1"
      ]
     },
     "execution_count": 4,
     "metadata": {},
     "output_type": "execute_result"
    },
    {
     "data": {
      "text/html": [
       "<details><summary><pre style=\"display:inline\"><small>Click here for additional output</small></pre></summary>\n",
       "<pre>\n",
       "polymake: used package ppl\n",
       "  The Parma Polyhedra Library ([[wiki:external_software#PPL]]): A C++ library for convex polyhedra\n",
       "  and other numerical abstractions.\n",
       "  http://www.cs.unipr.it/ppl/\n",
       "\n",
       "</pre>\n",
       "</details>\n"
      ]
     },
     "metadata": {},
     "output_type": "display_data"
    }
   ],
   "source": [
    "print stacky_fan($TG_K4)->STACKY_F_VECTOR;"
   ]
  },
  {
   "cell_type": "markdown",
   "metadata": {},
   "source": [
    "After appropriately identifying on the boundary of this complex, we obtain the moduli cell corresponding to $K_4$:"
   ]
  },
  {
   "cell_type": "code",
   "execution_count": 5,
   "metadata": {},
   "outputs": [
    {
     "data": {
      "text/plain": [
       "({} 0)\n",
       "({} 0)\n",
       "({} 0)\n",
       "({} 0)\n",
       "({} 0)\n",
       "({} 1)\n"
      ]
     },
     "execution_count": 5,
     "metadata": {},
     "output_type": "execute_result"
    }
   ],
   "source": [
    "$moduli_k4 = $TG_K4->MODULI_CELL;\n",
    "print $moduli_k4->HOMOLOGY;"
   ]
  },
  {
   "cell_type": "markdown",
   "metadata": {},
   "source": [
    "That output is the reduced integral homology of the $5$-sphere; see [Allcock, Corey and Payne (2019)](https://arxiv.org/abs/1908.08171)."
   ]
  },
  {
   "cell_type": "code",
   "execution_count": 6,
   "metadata": {},
   "outputs": [
    {
     "data": {
      "text/plain": [
       "356 6716 34320 71160 64800 21600"
      ]
     },
     "execution_count": 6,
     "metadata": {},
     "output_type": "execute_result"
    }
   ],
   "source": [
    "print $moduli_k4->F_VECTOR;"
   ]
  },
  {
   "cell_type": "markdown",
   "metadata": {},
   "source": [
    "By Theorem 5.1 of [Brodsky et al. (2015)](https://link.springer.com/article/10.1186/s40687-014-0018-1) a complete graph $K_4$ arises from a smooth tropical quartic (also called *honeycomb curve*) if and only if its edge lengths satisfy the following linear inequalities; they cut out a polyhedral cone in the $6$-dimensional orthant of all $K_4$-curves."
   ]
  },
  {
   "cell_type": "code",
   "execution_count": 7,
   "metadata": {},
   "outputs": [],
   "source": [
    "($U,$V,$W,$X,$Y,$Z) = map { new Vector($_ ) } @{rows(unit_matrix(6))};\n",
    "$D_ineqs = new Matrix([$U-$X, $U-$Y, $V-$X, $V-$Z, $W-$Y, $W-$Z]);\n",
    "$TK4_planar = new Curve(EDGES_THROUGH_VERTICES=>$skeleton, INEQUALITIES=>$D_ineqs);"
   ]
  },
  {
   "cell_type": "markdown",
   "metadata": {},
   "source": [
    "We get the claimed f-vector."
   ]
  },
  {
   "cell_type": "code",
   "execution_count": 8,
   "metadata": {},
   "outputs": [
    {
     "data": {
      "text/plain": [
       "4 8 10 7 2"
      ]
     },
     "execution_count": 8,
     "metadata": {},
     "output_type": "execute_result"
    }
   ],
   "source": [
    "print stacky_fan($TK4_planar)->STACKY_F_VECTOR;"
   ]
  },
  {
   "cell_type": "code",
   "execution_count": 9,
   "metadata": {},
   "outputs": [
    {
     "data": {
      "text/plain": [
       "3809 72766 360654 723696 639360 207360"
      ]
     },
     "execution_count": 9,
     "metadata": {},
     "output_type": "execute_result"
    }
   ],
   "source": [
    "$mod_honey = $TK4_planar->MODULI_CELL;\n",
    "print $mod_honey->F_VECTOR;"
   ]
  },
  {
   "cell_type": "code",
   "execution_count": 10,
   "metadata": {},
   "outputs": [
    {
     "data": {
      "text/plain": [
       "({} 0)\n",
       "({} 0)\n",
       "({} 0)\n",
       "({} 0)\n",
       "({} 0)\n",
       "({} 0)\n"
      ]
     },
     "execution_count": 10,
     "metadata": {},
     "output_type": "execute_result"
    }
   ],
   "source": [
    "print $mod_honey->HOMOLOGY;"
   ]
  },
  {
   "cell_type": "markdown",
   "metadata": {},
   "source": [
    "The above computation shows that the honeycomb locus is homologically trivial.  The next computation provides a (random) discrete Morse function without critical cells.  The latter forms a certificate for contractibility."
   ]
  },
  {
   "cell_type": "code",
   "execution_count": 11,
   "metadata": {},
   "outputs": [
    {
     "data": {
      "text/plain": [
       "{(<1 0 0 0 0 0> 1)}"
      ]
     },
     "execution_count": 11,
     "metadata": {},
     "output_type": "execute_result"
    }
   ],
   "source": [
    "print topaz::random_discrete_morse($mod_honey,rounds=>1);"
   ]
  },
  {
   "cell_type": "markdown",
   "metadata": {},
   "source": [
    "This completes our proof."
   ]
  },
  {
   "cell_type": "code",
   "execution_count": 12,
   "metadata": {},
   "outputs": [
    {
     "data": {
      "text/plain": [
       "total time 247 wallclock secs (246.90 usr  0.53 sys +  1.06 cusr  0.03 csys = 248.52 CPU)"
      ]
     },
     "execution_count": 12,
     "metadata": {},
     "output_type": "execute_result"
    }
   ],
   "source": [
    "$t1 = Benchmark->new;\n",
    "$td1 = timediff($t1,$t0);\n",
    "print \"total time \", timestr($td1);"
   ]
  },
  {
   "cell_type": "markdown",
   "metadata": {},
   "source": [
    "On 12-core AMD Ryzen 9 5900X running openSUSE Leap 15.3 with kernel 6.1.0."
   ]
  }
 ],
 "metadata": {
  "kernelspec": {
   "display_name": "polymake-4.9",
   "language": "polymake",
   "name": "polymake"
  },
  "language_info": {
   "codemirror_mode": "perl",
   "file_extension": ".pl",
   "mimetype": "text/x-polymake",
   "name": "polymake"
  }
 },
 "nbformat": 4,
 "nbformat_minor": 2
}
